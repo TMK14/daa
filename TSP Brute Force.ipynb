{
 "cells": [
  {
   "cell_type": "code",
   "execution_count": 1,
   "id": "66a8819b-6518-4b37-a28b-d1bb6bd2b4cc",
   "metadata": {},
   "outputs": [
    {
     "name": "stdout",
     "output_type": "stream",
     "text": [
      "Route: [0, 1, 3, 4, 2, 5, 0]\n",
      "Total distance: 24\n"
     ]
    }
   ],
   "source": [
    "from itertools import permutations\n",
    "def calculate_distance(route, distances):\n",
    "    total_distance = 0\n",
    "    for i in range(len(route) - 1):\n",
    "        total_distance += distances[route[i]][route[i + 1]]\n",
    "    total_distance += distances[route[-1]][route[0]]\n",
    "    return total_distance\n",
    "\n",
    "def brute_force_tsp(distances):\n",
    "    n = len(distances)\n",
    "    cities = list(range(1, n))\n",
    "    shortest_route = None\n",
    "    min_distance = float('inf')\n",
    "    \n",
    "    for perm in permutations(cities):\n",
    "        current_route = [0] + list(perm)\n",
    "        current_distance = calculate_distance(current_route, distances)\n",
    "        \n",
    "        if current_distance < min_distance:\n",
    "            min_distance = current_distance\n",
    "            shortest_route = current_route\n",
    "    \n",
    "    shortest_route.append(0)\n",
    "    return shortest_route, min_distance\n",
    "\n",
    "distances = [\n",
    "    [0, 2, 2, 5, 9, 3],\n",
    "    [2, 0, 4, 6, 7, 8],\n",
    "    [2, 4, 0, 8, 6, 3],\n",
    "    [5, 6, 8, 0, 4, 9],\n",
    "    [9, 7, 6, 4, 0, 10],\n",
    "    [3, 8, 3, 9, 10, 0]\n",
    "]\n",
    "route, total_distance = brute_force_tsp(distances)\n",
    "print(\"Route:\", route)\n",
    "print(\"Total distance:\", total_distance)"
   ]
  },
  {
   "cell_type": "code",
   "execution_count": null,
   "id": "aa3e975c-e774-4ac6-a894-e1973cf920d6",
   "metadata": {},
   "outputs": [],
   "source": []
  }
 ],
 "metadata": {
  "kernelspec": {
   "display_name": "Python 3",
   "language": "python",
   "name": "python3"
  },
  "language_info": {
   "codemirror_mode": {
    "name": "ipython",
    "version": 3
   },
   "file_extension": ".py",
   "mimetype": "text/x-python",
   "name": "python",
   "nbconvert_exporter": "python",
   "pygments_lexer": "ipython3",
   "version": "3.12.6"
  }
 },
 "nbformat": 4,
 "nbformat_minor": 5
}
