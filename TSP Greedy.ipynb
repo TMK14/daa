{
 "cells": [
  {
   "cell_type": "code",
   "execution_count": 1,
   "id": "6a5af4d4-5e21-4014-b6e7-5a210af66629",
   "metadata": {},
   "outputs": [
    {
     "name": "stdout",
     "output_type": "stream",
     "text": [
      "Route: [0, 1, 2, 5, 3, 4, 0]\n",
      "Total distance: 31\n"
     ]
    }
   ],
   "source": [
    "def nearest_neighbor_tsp(distances):\n",
    "    n = len(distances)\n",
    "    visited = [False] * n\n",
    "    route = [0]\n",
    "    visited[0] = True\n",
    "    total_distance = 0\n",
    "\n",
    "    for _ in range(1, n):\n",
    "        last = route[-1]\n",
    "        nearest = None\n",
    "        min_dist = float('inf')\n",
    "        for i in range(n):\n",
    "            if not visited[i] and distances[last][i] < min_dist:\n",
    "                min_dist = distances[last][i]\n",
    "                nearest = i\n",
    "        route.append(nearest)\n",
    "        visited[nearest] = True\n",
    "        total_distance += min_dist\n",
    "\n",
    "    total_distance += distances[route[-1]][0]\n",
    "    route.append(0)\n",
    "    return route, total_distance\n",
    "\n",
    "distances = [\n",
    "    [0, 2, 2, 5, 9, 3],\n",
    "    [2, 0, 4, 6, 7, 8],\n",
    "    [2, 4, 0, 8, 6, 3],\n",
    "    [5, 6, 8, 0, 4, 9],\n",
    "    [9, 7, 6, 4, 0, 10],\n",
    "    [3, 8, 3, 9, 10, 0]\n",
    "]\n",
    "\n",
    "route, total_distance = nearest_neighbor_tsp(distances)\n",
    "print(\"Route:\", route)\n",
    "print(\"Total distance:\", total_distance)"
   ]
  },
  {
   "cell_type": "code",
   "execution_count": null,
   "id": "d85126e6-31b7-4975-aef4-0c4168a874f5",
   "metadata": {},
   "outputs": [],
   "source": []
  }
 ],
 "metadata": {
  "kernelspec": {
   "display_name": "Python 3",
   "language": "python",
   "name": "python3"
  },
  "language_info": {
   "codemirror_mode": {
    "name": "ipython",
    "version": 3
   },
   "file_extension": ".py",
   "mimetype": "text/x-python",
   "name": "python",
   "nbconvert_exporter": "python",
   "pygments_lexer": "ipython3",
   "version": "3.12.6"
  }
 },
 "nbformat": 4,
 "nbformat_minor": 5
}
