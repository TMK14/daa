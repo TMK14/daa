{
 "cells": [
  {
   "cell_type": "code",
   "execution_count": 1,
   "id": "38840c7b-893b-442a-9c68-c72850983514",
   "metadata": {},
   "outputs": [
    {
     "name": "stdout",
     "output_type": "stream",
     "text": [
      "80\n"
     ]
    }
   ],
   "source": [
    "MAX = 999999\n",
    "\n",
    "def TSP(mask, pos, graph, dp,n, visited):\n",
    "\tif mask == visited:\n",
    "\t\treturn graph[pos][0]\n",
    "\tif dp[mask][pos] != -1:\n",
    "\t\treturn dp[mask][pos]\n",
    "\t\n",
    "\tans = MAX \n",
    "\tfor city in range(0, n):\n",
    "\t\tif ((mask & (1 << city)) == 0):\n",
    "\t\t\tnew = graph[pos][city] + TSP(mask|(1<<city),city, graph, dp, n, visited)\n",
    "\t\t\tans = min(ans, new)\n",
    "\t\n",
    "\tdp[mask][pos]=ans\n",
    "\treturn dp[mask][pos]\n",
    "\n",
    "\n",
    "\n",
    "\n",
    "graph = [[0, 10, 15, 20], [10, 0, 35, 25],\n",
    "\t\t[15, 35, 0, 30], [20, 25, 30, 0]]\n",
    "n = 4\n",
    "visited = (1 << n) - 1\n",
    "r,c=16,4\n",
    "dp=[[-1 for j in range(c)]for i in range(r)]\n",
    "for i in range(0, (1<<n)):\n",
    "\tfor j in range(0, n):\n",
    "\t\tdp[i][j] = -1\n",
    "\n",
    "print(TSP(1, 0,graph, dp, n, visited))\n"
   ]
  },
  {
   "cell_type": "code",
   "execution_count": null,
   "id": "91647051-6425-4fce-9321-61a990efcc97",
   "metadata": {},
   "outputs": [],
   "source": []
  }
 ],
 "metadata": {
  "kernelspec": {
   "display_name": "Python 3",
   "language": "python",
   "name": "python3"
  },
  "language_info": {
   "codemirror_mode": {
    "name": "ipython",
    "version": 3
   },
   "file_extension": ".py",
   "mimetype": "text/x-python",
   "name": "python",
   "nbconvert_exporter": "python",
   "pygments_lexer": "ipython3",
   "version": "3.12.6"
  }
 },
 "nbformat": 4,
 "nbformat_minor": 5
}
